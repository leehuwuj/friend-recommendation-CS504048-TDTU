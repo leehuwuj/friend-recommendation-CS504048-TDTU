{
 "cells": [
  {
   "cell_type": "markdown",
   "metadata": {},
   "source": [
    "# About\n",
    "## Notebook\n",
    "***Massive data mining, TDTU Spring 2020***  \n",
    "****Excercise 2: Friend recommendation****  \n",
    "\n",
    "\n",
    "-------------------------------------------------------------------\n",
    "### Warning:\n",
    "- This notebook was built localy by jupyter notebook not any online notebook like colab or kaggle lab.\n",
    "- It's mean that, if you run localy you must be installed all needed packages bellow.\n",
    "- I not sure that the codes bellow will completely run on online notebook tools.\n",
    "-------------------------------------------------------------------\n",
    "\n",
    "## Author\n",
    "- Name: **Huu V.Le**\n",
    "- ID: **51703095**"
   ]
  },
  {
   "cell_type": "markdown",
   "metadata": {},
   "source": []
  },
  {
   "cell_type": "markdown",
   "metadata": {},
   "source": [
    "# Preprocessing"
   ]
  },
  {
   "cell_type": "markdown",
   "metadata": {},
   "source": [
    "## Import packages"
   ]
  },
  {
   "cell_type": "code",
   "execution_count": 3,
   "metadata": {},
   "outputs": [],
   "source": [
    "from pyspark.sql import *\n",
    "from pyspark.sql.types import *\n",
    "from pyspark.sql.functions import *\n",
    "from pyspark import SparkContext\n",
    "\n",
    "from operator import add\n",
    "\n",
    "import pandas as pd"
   ]
  },
  {
   "cell_type": "markdown",
   "metadata": {},
   "source": [
    "## Create spark session and context"
   ]
  },
  {
   "cell_type": "code",
   "execution_count": 4,
   "metadata": {},
   "outputs": [],
   "source": [
    "# create the Spark Session\n",
    "spark = SparkSession.builder.getOrCreate()\n",
    "\n",
    "# create the Spark Context\n",
    "sc = spark.sparkContext"
   ]
  },
  {
   "cell_type": "code",
   "execution_count": null,
   "metadata": {},
   "outputs": [],
   "source": []
  },
  {
   "cell_type": "markdown",
   "metadata": {},
   "source": [
    "## Load data.\n",
    "- [USER][TAB][FRIEND1, FRIEND2,..]\n",
    "\n",
    "**Let's define schema for that data. Two columns: user_id and friends.**\n",
    "- user_id: id of target user\n",
    "- friends: list friend of target user, seperated by ','  formated as string"
   ]
  },
  {
   "cell_type": "code",
   "execution_count": 5,
   "metadata": {},
   "outputs": [],
   "source": [
    "schema = StructType([\n",
    "    StructField(\"user\", StringType()),\n",
    "    StructField(\"friends\", StringType()),\n",
    "])"
   ]
  },
  {
   "cell_type": "markdown",
   "metadata": {},
   "source": [
    "**Let's read data with defined schema**"
   ]
  },
  {
   "cell_type": "code",
   "execution_count": 6,
   "metadata": {},
   "outputs": [],
   "source": [
    "data = spark.read\\\n",
    "            .option('delimiter', '\\t')\\\n",
    "            .csv('./data/soc-LiveJournal1Adj.txt', schema=schema)"
   ]
  },
  {
   "cell_type": "code",
   "execution_count": 7,
   "metadata": {},
   "outputs": [
    {
     "name": "stdout",
     "output_type": "stream",
     "text": [
      "+----+--------------------+\n",
      "|user|             friends|\n",
      "+----+--------------------+\n",
      "|   0|1,2,3,4,5,6,7,8,9...|\n",
      "|   1|0,5,20,135,2409,8...|\n",
      "|   2|0,117,135,1220,27...|\n",
      "|   3|0,12,41,55,1532,1...|\n",
      "|   4|0,8,14,15,18,27,7...|\n",
      "|   5|0,1,20,2022,22939...|\n",
      "|   6|0,21,98,2203,3238...|\n",
      "|   7|0,31993,40218,404...|\n",
      "|   8|0,4,38,46,72,85,2...|\n",
      "|   9|  0,6085,18972,19269|\n",
      "+----+--------------------+\n",
      "only showing top 10 rows\n",
      "\n"
     ]
    }
   ],
   "source": [
    "data.show(10)"
   ]
  },
  {
   "cell_type": "code",
   "execution_count": null,
   "metadata": {},
   "outputs": [],
   "source": []
  },
  {
   "cell_type": "markdown",
   "metadata": {},
   "source": [
    "# Alogrithm, solution"
   ]
  },
  {
   "cell_type": "markdown",
   "metadata": {},
   "source": [
    "## Problem"
   ]
  },
  {
   "cell_type": "markdown",
   "metadata": {},
   "source": [
    "---------------------------------------------------------------------------"
   ]
  },
  {
   "cell_type": "markdown",
   "metadata": {},
   "source": [
    "**!!!Vietnamese!!!**"
   ]
  },
  {
   "cell_type": "markdown",
   "metadata": {},
   "source": [
    "**Thuật toán:** Sử dụng thuật toán đơn giản sau: Với mỗi user U thuật toán sẽ kiến nghị N=10 người\n",
    "không là bạn của U nhưng có số lượng bạn chung với U nhiều nhất."
   ]
  },
  {
   "cell_type": "markdown",
   "metadata": {},
   "source": [
    "---------------------------------------------------------------------------"
   ]
  },
  {
   "cell_type": "markdown",
   "metadata": {},
   "source": [
    "## Instructions:\n",
    "1. Get list friends of friends of input user from dataframe. **Note that this is list as string not python list**.\n",
    "2. We need to flat map the above string to list friend id.\n",
    "3. Remove the user id in flatmap that is input user friend.\n",
    "4. The problem return to wordcount => count user id in the flatmap.\n",
    "5. Sort by value descending"
   ]
  },
  {
   "cell_type": "markdown",
   "metadata": {},
   "source": [
    "### Functions"
   ]
  },
  {
   "cell_type": "code",
   "execution_count": 144,
   "metadata": {},
   "outputs": [],
   "source": [
    "def friend_recommender(user_id):\n",
    "    list_friend = data.filter(\"user = '{}'\".format(user_id)).collect()[0]['friends'].split(',')\n",
    "    result = data.select('friends')\\\n",
    "        .filter(col('user').isin(list_friend))\\\n",
    "        .rdd.flatMap(lambda x: x).flatMap(lambda x: x.split(','))\\\n",
    "        .filter(lambda x: not x in list_friend)\\\n",
    "        .filter(lambda x: x != str(user_id))\\\n",
    "        .map(lambda x: (int(x), 1))\\\n",
    "        .reduceByKey(add)\\\n",
    "        .map(lambda x: (x[1], x[0]))\\\n",
    "        .takeOrdered(10, lambda x: (-x[0], x[1]))\n",
    "    return [x[1] for x in result]"
   ]
  },
  {
   "cell_type": "markdown",
   "metadata": {},
   "source": [
    "## Tesing:\n",
    "***Để kiểm tra thuật toán của bạn đúng bạn có thể so sánh kết quả của bạn với danh sách gợi ý\n",
    "cho user ID 11 là (top 10): 27552, 7785, 27573, 27574, 27589, 27590, 27600, 27617, 27620,\n",
    "27667.***"
   ]
  },
  {
   "cell_type": "code",
   "execution_count": 145,
   "metadata": {},
   "outputs": [
    {
     "data": {
      "text/plain": [
       "[27552, 7785, 27573, 27574, 27589, 27590, 27600, 27617, 27620, 27667]"
      ]
     },
     "execution_count": 145,
     "metadata": {},
     "output_type": "execute_result"
    }
   ],
   "source": [
    "friend_recommender('11')"
   ]
  },
  {
   "cell_type": "markdown",
   "metadata": {},
   "source": [
    "- Year, It's right!"
   ]
  },
  {
   "cell_type": "markdown",
   "metadata": {},
   "source": []
  },
  {
   "cell_type": "markdown",
   "metadata": {},
   "source": [
    "## Make result"
   ]
  },
  {
   "cell_type": "code",
   "execution_count": 146,
   "metadata": {},
   "outputs": [],
   "source": [
    "users = [924, 8941, 8942, 9019,9020, 9021, 9022, 9990, 9992, 9993]"
   ]
  },
  {
   "cell_type": "code",
   "execution_count": 147,
   "metadata": {},
   "outputs": [],
   "source": [
    "list_result = dict()"
   ]
  },
  {
   "cell_type": "code",
   "execution_count": 148,
   "metadata": {},
   "outputs": [
    {
     "name": "stdout",
     "output_type": "stream",
     "text": [
      "CPU times: user 214 ms, sys: 57 ms, total: 271 ms\n",
      "Wall time: 4.16 s\n"
     ]
    }
   ],
   "source": [
    "%%time\n",
    "for user in users:\n",
    "    list_result[user] = friend_recommender(str(user))"
   ]
  },
  {
   "cell_type": "code",
   "execution_count": 149,
   "metadata": {},
   "outputs": [
    {
     "data": {
      "text/plain": [
       "{924: [439, 2409, 6995, 11860, 15416, 43748, 45881],\n",
       " 8941: [8943, 8944, 8940],\n",
       " 8942: [8939, 8940, 8943, 8944],\n",
       " 9019: [9022, 317, 9023],\n",
       " 9020: [9021, 9016, 9017, 9022, 317, 9023],\n",
       " 9021: [9020, 9016, 9017, 9022, 317, 9023],\n",
       " 9022: [9019, 9020, 9021, 317, 9016, 9017, 9023],\n",
       " 9990: [13134, 13478, 13877, 34299, 34485, 34642, 37941],\n",
       " 9992: [9987, 9989, 35667, 9991],\n",
       " 9993: [9991, 13134, 13478, 13877, 34299, 34485, 34642, 37941]}"
      ]
     },
     "execution_count": 149,
     "metadata": {},
     "output_type": "execute_result"
    }
   ],
   "source": [
    "list_result"
   ]
  },
  {
   "cell_type": "markdown",
   "metadata": {},
   "source": [
    "#### Wow, it's light fast, isn't it?"
   ]
  },
  {
   "cell_type": "markdown",
   "metadata": {},
   "source": [
    "### Let's write result to file"
   ]
  },
  {
   "cell_type": "code",
   "execution_count": 152,
   "metadata": {},
   "outputs": [
    {
     "name": "stdout",
     "output_type": "stream",
     "text": [
      "Writed result successfully!\n"
     ]
    }
   ],
   "source": [
    "f = open(\"result.txt\", \"a\")\n",
    "for user in list_result.keys():\n",
    "    f.write('{}\\t{}\\n'.format(user, ','.join([str(x) for x in list_result[user]])))\n",
    "print('Writed result successfully!')\n",
    "f.close()"
   ]
  },
  {
   "cell_type": "markdown",
   "metadata": {},
   "source": []
  },
  {
   "cell_type": "markdown",
   "metadata": {},
   "source": [
    "# Author contact:\n",
    "- If you want more details or error feedback, please contact me.  \n",
    "Github: https://github.com/leehuwuj  \n",
    "Facebook: https://fb.com/leehuwuj"
   ]
  },
  {
   "cell_type": "code",
   "execution_count": null,
   "metadata": {},
   "outputs": [],
   "source": []
  }
 ],
 "metadata": {
  "kernelspec": {
   "display_name": "Python 3",
   "language": "python",
   "name": "python3"
  },
  "language_info": {
   "codemirror_mode": {
    "name": "ipython",
    "version": 3
   },
   "file_extension": ".py",
   "mimetype": "text/x-python",
   "name": "python",
   "nbconvert_exporter": "python",
   "pygments_lexer": "ipython3",
   "version": "3.7.6"
  }
 },
 "nbformat": 4,
 "nbformat_minor": 4
}
